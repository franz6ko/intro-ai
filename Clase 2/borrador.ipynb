{
 "cells": [
  {
   "cell_type": "code",
   "execution_count": 2,
   "id": "45b26b80",
   "metadata": {},
   "outputs": [],
   "source": [
    "import numpy as np\n",
    "\n",
    "### Dataset sintético ###\n",
    "\n",
    "# Ejercicio 1 \n",
    "\n",
    "# Nº de muestras\n",
    "n = 200 \n",
    "\n",
    "# Centroides\n",
    "A = np.array([1, 0, 0, 0])\n",
    "B = np.array([0, 1, 0, 0])\n",
    "\n",
    "# Constante de separación\n",
    "cte = 1\n",
    "\n",
    "m = np.vstack((A,B))\n",
    "m = m*cte # + cte\n",
    "\n",
    "db = np.repeat(m, n/2, axis=0)\n",
    "\n",
    "# Desviación estándar del ruido\n",
    "dev = 1\n",
    "db = db + np.random.normal(0, dev, db.shape)\n",
    "\n",
    "tag = np.array([\"A\", \"B\"])\n",
    "tags = np.repeat(tag, n/2)"
   ]
  },
  {
   "cell_type": "code",
   "execution_count": 52,
   "id": "6e0ccf8c",
   "metadata": {},
   "outputs": [
    {
     "name": "stdout",
     "output_type": "stream",
     "text": [
      "[[ 3.60555128  8.36660027 13.45362405]\n",
      " [ 2.44948974  7.54983444 12.72792206]]\n"
     ]
    }
   ],
   "source": [
    "# Ejercicio 6\n",
    "\n",
    "db = np.array([[1,2,3],[4,5,6],[7,8,9]])\n",
    "centr = np.array([[1,0,0],[0,1,1]])\n",
    "\n",
    "centr = centr[:, np.newaxis]\n",
    "resta = centr - db\n",
    "norm = np.linalg.norm(resta, axis=2)\n",
    "print(norm)"
   ]
  },
  {
   "cell_type": "code",
   "execution_count": 53,
   "id": "8711132b",
   "metadata": {},
   "outputs": [
    {
     "name": "stdout",
     "output_type": "stream",
     "text": [
      "[1 1 1]\n"
     ]
    }
   ],
   "source": [
    "# Ejercicio 7\n",
    "\n",
    "centr_res = np.argmin(norm, axis=0)\n",
    "print(centr_res)"
   ]
  },
  {
   "cell_type": "code",
   "execution_count": 75,
   "id": "8a31e7b4",
   "metadata": {},
   "outputs": [
    {
     "name": "stdout",
     "output_type": "stream",
     "text": [
      "[[ 0.27780155  0.16648119 -0.11597141  0.63674012]\n",
      " [ 0.65863166  0.83544361  0.11778707 -0.88145984]]\n"
     ]
    }
   ],
   "source": [
    "# Ejercicio 8 (Implementación básica de K-means)\n",
    "\n",
    "def k_means(X,n):\n",
    "\n",
    "    # Selección random de centroides iniciales\n",
    "    i = np.random.randint(0, db.shape[0]-1, n)\n",
    "    centr = db[i]\n",
    "    \n",
    "    for i in range(10):\n",
    "    \n",
    "        # Distancia entre todos los puntos y los centroides (Ejericio 6)\n",
    "        centr = centr[:, np.newaxis]\n",
    "        resta = centr - db\n",
    "        norm = np.linalg.norm(resta, axis=2)\n",
    "\n",
    "        # Selección del centroide más cercano (Ejercicio 7)\n",
    "        centr_res = np.argmin(norm, axis=0)\n",
    "\n",
    "        # Recalculo de centroides\n",
    "        lst = []\n",
    "        for i in range(num_clust):\n",
    "            lst.append(np.mean(db[centr_res==i], axis=0))\n",
    "        centr = np.array(lst)\n",
    "    \n",
    "    return centr,centr_res\n",
    "\n",
    "centr_r,tags_r = k_means(db, 2)\n",
    "print(centr_r)\n",
    "\n",
    "## Probar en R2/3 para verlo graficamente, spectation maximization ?"
   ]
  },
  {
   "cell_type": "code",
   "execution_count": 5,
   "id": "dd53fb15",
   "metadata": {},
   "outputs": [
    {
     "name": "stdout",
     "output_type": "stream",
     "text": [
      "(2, 2)\n",
      "[[ 1.41421356 -0.52093947]\n",
      " [-0.70710678 -0.87815511]\n",
      " [-0.70710678  1.39909459]]\n"
     ]
    },
    {
     "data": {
      "text/plain": [
       "array([-0.63164017,  1.12094944, -0.48930927])"
      ]
     },
     "execution_count": 5,
     "metadata": {},
     "output_type": "execute_result"
    }
   ],
   "source": [
    "# Ejercicio 2 (PCA)\n",
    "\n",
    "X = np.array([[0.8,0.7],[0.1,-0.1], [0.1,5]])\n",
    "\n",
    "# Estandarización de datos\n",
    "mean = X.mean(axis=0)\n",
    "std = X.std(axis=0)\n",
    "sX = (X-mean)/std\n",
    "\n",
    "# Matriz de covarianza\n",
    "M = np.cov(sX.T)\n",
    "print(M.shape)\n",
    "\n",
    "# Cálculo de autovalores y autovectores\n",
    "eig_vals, eig_vecs = np.linalg.eig(M)\n",
    "max_ev_idx = np.argmax(eig_vals)\n",
    "\n",
    "# Proyección sobre la dirección de la componente principal\n",
    "print(sX)\n",
    "P = eig_vecs[max_ev_idx,:]\n",
    "sX.dot(P)"
   ]
  },
  {
   "cell_type": "code",
   "execution_count": 80,
   "id": "91a21170",
   "metadata": {},
   "outputs": [
    {
     "name": "stdout",
     "output_type": "stream",
     "text": [
      "[[ 0.35  0.4 ]\n",
      " [-0.35 -0.4 ]]\n"
     ]
    }
   ],
   "source": [
    "print(centered_X)"
   ]
  },
  {
   "cell_type": "code",
   "execution_count": null,
   "id": "ec47b27e",
   "metadata": {},
   "outputs": [],
   "source": []
  }
 ],
 "metadata": {
  "kernelspec": {
   "display_name": "Python 3",
   "language": "python",
   "name": "python3"
  },
  "language_info": {
   "codemirror_mode": {
    "name": "ipython",
    "version": 3
   },
   "file_extension": ".py",
   "mimetype": "text/x-python",
   "name": "python",
   "nbconvert_exporter": "python",
   "pygments_lexer": "ipython3",
   "version": "3.8.8"
  }
 },
 "nbformat": 4,
 "nbformat_minor": 5
}
