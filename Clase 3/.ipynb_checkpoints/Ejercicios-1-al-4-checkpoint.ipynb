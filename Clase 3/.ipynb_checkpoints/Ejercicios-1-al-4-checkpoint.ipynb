{
 "cells": [
  {
   "cell_type": "code",
   "execution_count": 31,
   "id": "97b960b6",
   "metadata": {},
   "outputs": [
    {
     "name": "stdout",
     "output_type": "stream",
     "text": [
      "[[0.72 0.63 0.98 0.42 0.02 0.32 0.97 0.92 0.09]\n",
      " [0.68 0.02 0.89 0.49 0.78 0.08 0.93 0.48 0.45]\n",
      " [0.33 0.99 0.38 0.84 0.89 0.64 0.83 0.35 0.93]\n",
      " [0.08 0.84 0.75 0.46 0.31 0.77 0.87 0.03 0.96]\n",
      " [0.19 0.97 0.19 0.19 0.4  0.64 0.07 0.11 0.51]]\n"
     ]
    }
   ],
   "source": [
    "import numpy as np\n",
    "\n",
    "## Ejercicio Nº1\n",
    "# Normalización z-score (resto media y divido por desviacion standart)\n",
    "n = 5 # muestras\n",
    "m = 9 # features\n",
    "\n",
    "def randomDataset(muestras,features):\n",
    "    # las columnas (quizas no todas) son las features\n",
    "    # las filas son las muestras\n",
    "    return np.random.rand(muestras,features).round(decimals=2)\n",
    "\n",
    "X = randomDataset(n,m)\n",
    "print(X)"
   ]
  },
  {
   "cell_type": "code",
   "execution_count": 32,
   "id": "92010778",
   "metadata": {},
   "outputs": [
    {
     "name": "stdout",
     "output_type": "stream",
     "text": [
      "[[ 0.8  -0.09  0.54 -0.12 -0.96 -0.35  0.32  1.43 -0.85]\n",
      " [ 0.7  -0.97  0.39  0.02  0.63 -0.84  0.27  0.27 -0.23]\n",
      " [-0.18  0.43 -0.4   0.75  0.85  0.31  0.13 -0.07  0.58]\n",
      " [-0.8   0.22  0.18 -0.04 -0.35  0.57  0.19 -0.92  0.63]\n",
      " [-0.52  0.41 -0.7  -0.6  -0.17  0.31 -0.9  -0.71 -0.13]]\n"
     ]
    }
   ],
   "source": [
    "def zScoreNorm(X):\n",
    "    mean = np.mean(X, axis=0)\n",
    "    std = np.mean(X, axis=0)\n",
    "    return (X - mean)/std\n",
    "\n",
    "X_norm = zScoreNorm(X).round(decimals=2)\n",
    "print(X_norm)"
   ]
  },
  {
   "cell_type": "code",
   "execution_count": 33,
   "id": "f7f0a2e1",
   "metadata": {},
   "outputs": [
    {
     "name": "stdout",
     "output_type": "stream",
     "text": [
      "[[ 0.8  -0.09  0.54 -0.12 -0.96 -0.35  0.32  1.43 -0.85]\n",
      " [ 0.7  -0.97  0.39  0.02  0.63 -0.84  0.27  0.27 -0.23]\n",
      " [-0.18  0.43 -0.4   0.75  0.85  0.31  0.13 -0.07  0.58]\n",
      " [-0.8    nan  0.18 -0.04 -0.35  0.57  0.19 -0.92  0.63]\n",
      " [-0.52  0.41   nan -0.6  -0.17  0.31 -0.9  -0.71   nan]]\n"
     ]
    }
   ],
   "source": [
    "## Ejercicio Nº2\n",
    "# Aleatoriamente pongo NaNs en el dataset\n",
    "t = 3 # Cantidad de NaNs   \n",
    "r = np.random.randint(0,n,t)\n",
    "c = np.random.randint(0,m,t)\n",
    "X_norm[r,c] = np.nan\n",
    "print(X_norm)"
   ]
  },
  {
   "cell_type": "code",
   "execution_count": 34,
   "id": "a87c9e24",
   "metadata": {},
   "outputs": [
    {
     "name": "stdout",
     "output_type": "stream",
     "text": [
      "[[ 0.8  -0.09  0.54 -0.12 -0.96 -0.35  0.32  1.43 -0.85]\n",
      " [ 0.7  -0.97  0.39  0.02  0.63 -0.84  0.27  0.27 -0.23]\n",
      " [-0.18  0.43 -0.4   0.75  0.85  0.31  0.13 -0.07  0.58]]\n"
     ]
    }
   ],
   "source": [
    "# Eliminar muestras con al menos un NaN. (Existe una funcion de panda para esto)\n",
    "def removeRowsWithNan(X):\n",
    "    return X[~np.isnan(X).any(axis=1)]\n",
    "print(removeRowsWithNan(X_norm))"
   ]
  },
  {
   "cell_type": "code",
   "execution_count": 37,
   "id": "2f3345f6",
   "metadata": {},
   "outputs": [
    {
     "name": "stdout",
     "output_type": "stream",
     "text": [
      "[[ 0.8  -0.09  0.54 -0.12 -0.96 -0.35  0.32  1.43 -0.85]\n",
      " [ 0.7  -0.97  0.39  0.02  0.63 -0.84  0.27  0.27 -0.23]\n",
      " [-0.18  0.43 -0.4   0.75  0.85  0.31  0.13 -0.07  0.58]\n",
      " [-0.8  -0.21  0.18 -0.04 -0.35  0.57  0.19 -0.92  0.63]\n",
      " [-0.52  0.41  0.18 -0.6  -0.17  0.31 -0.9  -0.71 -0.17]]\n"
     ]
    }
   ],
   "source": [
    "## Ejercicio Nº3\n",
    "# Reemplazar los NaNs por el promedio de la feature (TODO)\n",
    "def replaceNanWithMean(X):\n",
    "    # Promedio para cada feature\n",
    "    means = removeRowsWithNan(X).mean(axis=0)\n",
    "    # Convertir Nans en 0\n",
    "    X_out = np.nan_to_num(X)\n",
    "    # Sumar media en donde había Nans\n",
    "    X_out += np.isnan(X) * means\n",
    "    \n",
    "    return X_out.round(decimals=2)\n",
    "\n",
    "print(replaceNanWithMean(X_norm))   "
   ]
  },
  {
   "cell_type": "code",
   "execution_count": 38,
   "id": "f2d111a9",
   "metadata": {},
   "outputs": [],
   "source": [
    "## Ejercicio Nº4\n",
    "# Dividir un dataset en training, validation y test datasets\n",
    "def splitDataset(X,Y=None,training_percentage=0.7,validation_percentage=0.2,testing_percentage=0.1):\n",
    "    print(X.shape)\n",
    "    X = np.random.permutation(X)\n",
    "    a = round(X.shape[0]*training_percentage)\n",
    "    b = round(X.shape[0]*(training_percentage+validation_percentage))\n",
    "    tX = X[:a]\n",
    "    vX = X[a:b]\n",
    "    gX = X[b:]\n",
    "    if Y == None:\n",
    "        return tX,vX,gX\n",
    "    else:\n",
    "        Y = np.random.permutation(Y)\n",
    "        tY = Y[:a]\n",
    "        vY = Y[a:b]\n",
    "        gY = Y[b:]\n",
    "        return tX,tY,vX,vY,gX,gY"
   ]
  },
  {
   "cell_type": "code",
   "execution_count": 39,
   "id": "57dc2799",
   "metadata": {},
   "outputs": [
    {
     "name": "stdout",
     "output_type": "stream",
     "text": [
      "(100, 5)\n",
      "(70, 5)\n",
      "(20, 5)\n",
      "(10, 5)\n"
     ]
    }
   ],
   "source": [
    "X_norm = randomDataset(muestras=100,features=5)\n",
    "tX,vX,gX = splitDataset(X_norm)\n",
    "print(tX.shape)\n",
    "print(vX.shape)\n",
    "print(gX.shape)"
   ]
  },
  {
   "cell_type": "code",
   "execution_count": null,
   "id": "cf492fb5",
   "metadata": {},
   "outputs": [],
   "source": []
  }
 ],
 "metadata": {
  "kernelspec": {
   "display_name": "Python 3",
   "language": "python",
   "name": "python3"
  },
  "language_info": {
   "codemirror_mode": {
    "name": "ipython",
    "version": 3
   },
   "file_extension": ".py",
   "mimetype": "text/x-python",
   "name": "python",
   "nbconvert_exporter": "python",
   "pygments_lexer": "ipython3",
   "version": "3.8.8"
  }
 },
 "nbformat": 4,
 "nbformat_minor": 5
}
