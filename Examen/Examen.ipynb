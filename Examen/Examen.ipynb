{
 "cells": [
  {
   "cell_type": "code",
   "execution_count": 81,
   "id": "3b03052a",
   "metadata": {},
   "outputs": [],
   "source": [
    "# Importar librerias\n",
    "import numpy as np\n",
    "import pickle\n",
    "import csv\n",
    "import matplotlib.pyplot as plt\n",
    "from sklearn.preprocessing import PolynomialFeatures, StandardScaler"
   ]
  },
  {
   "cell_type": "code",
   "execution_count": 82,
   "id": "8c2b96e6",
   "metadata": {},
   "outputs": [
    {
     "name": "stdout",
     "output_type": "stream",
     "text": [
      "Creating new dataset instance\n",
      "Initialising dataset\n"
     ]
    }
   ],
   "source": [
    "# Importar dataset\n",
    "class Dataset:\n",
    "    \n",
    "    instance = None\n",
    "    data = None\n",
    "    \n",
    "    def __new__(cls, fname):\n",
    "        if Dataset.instance is None:\n",
    "            print(\"Creating new dataset instance\")\n",
    "            Dataset.instance = super(Dataset, cls).__new__(cls)\n",
    "            return Dataset.instance\n",
    "        else:\n",
    "            return Dataset.instance\n",
    "        \n",
    "    def __init__(self, fname):\n",
    "        print(\"Initialising dataset\")\n",
    "        \n",
    "        try:\n",
    "            with open(fname + '.pkl','rb') as pkl_file:\n",
    "                self.data = pickle.load(pkl_file)\n",
    "        except FileNotFoundError:\n",
    "            print(\"CSV file found. Building PKL file...\")\n",
    "            try:\n",
    "                with open(fname + '.csv') as csv_file:\n",
    "                    with open(fname + '.pkl','wb') as pkl_file:\n",
    "                        \n",
    "                        csv_reader = csv.reader(csv_file, delimiter=',')\n",
    "\n",
    "                        def generator(csv_reader):\n",
    "                            for line in csv_reader:\n",
    "                                yield(line[0],line[1])\n",
    "                        \n",
    "                        gen = generator(csv_reader)\n",
    "                        \n",
    "                        structure = [('X', np.float32),\n",
    "                                     ('y', np.float32)]\n",
    "                        \n",
    "                        array = np.fromiter(gen, dtype=structure)\n",
    "                        \n",
    "                        pickle.dump(array, pkl_file, protocol=pickle.HIGHEST_PROTOCOL)\n",
    "                        \n",
    "                    pkl_file.close()\n",
    "                \n",
    "                with open(fname + '.pkl','rb') as pkl_file:\n",
    "                    self.data = pickle.load(pkl_file)\n",
    "            except FileNotFoundError:\n",
    "                print(\"No PKL or CSV named \" + fname + \" was found.\")\n",
    "            finally:\n",
    "                csv_file.close()\n",
    "        finally:\n",
    "            pkl_file.close()\n",
    "\n",
    "dataset = Dataset('clase_8_dataset')"
   ]
  },
  {
   "cell_type": "code",
   "execution_count": 83,
   "id": "5da13455",
   "metadata": {},
   "outputs": [
    {
     "name": "stdout",
     "output_type": "stream",
     "text": [
      "(500,)\n",
      "(500,)\n"
     ]
    },
    {
     "data": {
      "image/png": "[encoded data removed]",
      "text/plain": [
       "<Figure size 432x288 with 1 Axes>"
      ]
     },
     "metadata": {
      "needs_background": "light"
     },
     "output_type": "display_data"
    }
   ],
   "source": [
    "# Graficar dataset\n",
    "X = dataset.data['X']\n",
    "y = dataset.data['y']\n",
    "\n",
    "plt.scatter(X,y);\n",
    "print(X.shape)\n",
    "print(y.shape)"
   ]
  },
  {
   "cell_type": "code",
   "execution_count": 84,
   "id": "050190b2",
   "metadata": {},
   "outputs": [],
   "source": [
    "# Normalizar el dataset\n",
    "X = StandardScaler(with_std=True).fit_transform(X.reshape(-1, 1))"
   ]
  },
  {
   "cell_type": "code",
   "execution_count": 85,
   "id": "6c13f364",
   "metadata": {},
   "outputs": [],
   "source": [
    "# Dividir dataset\n",
    "def splitDataset(X, y, p):\n",
    "    \n",
    "    idx = np.random.permutation(X.shape[0])\n",
    "    X_sh = X[idx]\n",
    "    y_sh = y[idx]\n",
    "    \n",
    "    lim = int(X.shape[0]*p)\n",
    "\n",
    "    return X_sh[:lim], X_sh[lim:], y_sh[:lim], y_sh[lim:]\n",
    "\n",
    "X_train, X_test, y_train, y_test = splitDataset(X, y, 0.8)"
   ]
  },
  {
   "cell_type": "code",
   "execution_count": 86,
   "id": "5b427fe0",
   "metadata": {},
   "outputs": [],
   "source": [
    "# Regresión Lineal\n",
    "class LinearRegression():\n",
    "\n",
    "    def fit(self, x, y):\n",
    "        if x.ndim == 1:\n",
    "            w = (x.T @ y) / (x.T @ x)\n",
    "        else:\n",
    "            w = np.linalg.inv(x.T @ x) @ x.T @ y\n",
    "        self.model = w\n",
    "\n",
    "    def predict(self, x):\n",
    "        return self.model @ x"
   ]
  },
  {
   "cell_type": "code",
   "execution_count": 87,
   "id": "0d7095a9",
   "metadata": {},
   "outputs": [],
   "source": [
    "# Regresión Polinómica\n",
    "class PolynomialRegression(LinearRegression):\n",
    "\n",
    "    def __init__(self, grade):\n",
    "        self.poly = PolynomialFeatures(grade)\n",
    "\n",
    "    def fit(self, x, y):\n",
    "        res = self.poly.fit_transform(x.reshape(-1, 1))\n",
    "        super().fit(res, y.reshape(-1, 1))\n",
    "\n",
    "    def predict(self, x):\n",
    "        return self.poly.fit_transform(x.reshape(-1, 1)) @ self.model\n",
    "\n",
    "    def fit_transform(self, x, y):\n",
    "        self.fit(x, y)\n",
    "        return self.predict(x).reshape(1, -1)"
   ]
  },
  {
   "cell_type": "code",
   "execution_count": 88,
   "id": "add3dfcc",
   "metadata": {},
   "outputs": [],
   "source": [
    "class MSE():\n",
    "    def __call__(self, target, prediction):\n",
    "        return np.mean((target - prediction) ** 2)"
   ]
  },
  {
   "cell_type": "code",
   "execution_count": 89,
   "id": "d0f32b7e",
   "metadata": {},
   "outputs": [],
   "source": [
    "# K-folds\n",
    "def k_folds(X, y, k, n):\n",
    "    \n",
    "    p_reg = PolynomialRegression(n)\n",
    "\n",
    "    mse_eval = MSE()\n",
    "    mse_list = []\n",
    "\n",
    "    chunk_size = int(len(X) / k)\n",
    "\n",
    "    for i in range(0, len(X), chunk_size):\n",
    "        end = i + chunk_size if i + chunk_size <= len(X) else len(X)\n",
    "\n",
    "        X_valid = X[i: end]\n",
    "        y_valid = y[i: end]\n",
    "        X_train = np.concatenate([X[: i], X[end:]])\n",
    "        y_train = np.concatenate([y[: i], y[end:]])\n",
    "\n",
    "        p_reg.fit(X_train, y_train)\n",
    "        y_pred = p_reg.predict(X_valid)\n",
    "        \n",
    "#         plt.figure()\n",
    "#         plt.scatter(X_valid, y_valid)\n",
    "#         plt.scatter(X_valid,y_pred)\n",
    "        \n",
    "        k_mse = mse_eval(y_valid.reshape(-1, 1), y_pred)\n",
    "        \n",
    "        mse_list.append(k_mse)\n",
    "        \n",
    "    mean_mse = np.mean(mse_list)\n",
    "\n",
    "    return mean_mse"
   ]
  },
  {
   "cell_type": "code",
   "execution_count": 90,
   "id": "61ada834",
   "metadata": {
    "scrolled": false
   },
   "outputs": [
    {
     "data": {
      "image/png": "[encoded data removed]",
      "text/plain": [
       "<Figure size 432x288 with 1 Axes>"
      ]
     },
     "metadata": {
      "needs_background": "light"
     },
     "output_type": "display_data"
    }
   ],
   "source": [
    "# Usar k-folds por cada grado de regresion polinómica de 1 a 4\n",
    "grades = [1,2,3,4]\n",
    "mses = []\n",
    "\n",
    "for g in grades:\n",
    "    mse = k_folds(X_train, y_train, 5, g)\n",
    "    mses.append(mse)\n",
    "    \n",
    "plt.plot(grades, mses);"
   ]
  },
  {
   "cell_type": "code",
   "execution_count": 91,
   "id": "a806db80",
   "metadata": {},
   "outputs": [
    {
     "data": {
      "image/png": "[encoded data removed]",
      "text/plain": [
       "<Figure size 432x288 with 1 Axes>"
      ]
     },
     "metadata": {
      "needs_background": "light"
     },
     "output_type": "display_data"
    }
   ],
   "source": [
    "# Selección del mejor modelo (polinomio grado 3)\n",
    "p_reg = PolynomialRegression(3)\n",
    "yp_train = p_reg.fit_transform(X_train, y_train)\n",
    "yp_test = p_reg.predict(X_test)\n",
    "\n",
    "w_cl = p_reg.model\n",
    "x = np.linspace(X_test.min(),X_test.max(), 100)\n",
    "y_cl = w_cl[0] * x**0 + w_cl[1] * x**1 + w_cl[2] * x**2 + w_cl[3] * x**3\n",
    "\n",
    "plt.plot(x,y_cl)\n",
    "plt.scatter(X_test, y_test);"
   ]
  },
  {
   "cell_type": "code",
   "execution_count": 79,
   "id": "73470b84",
   "metadata": {},
   "outputs": [],
   "source": [
    "# Mini-Batch Gradient Descent\n",
    "class MiniBatchGradientDescent:\n",
    "\n",
    "    def __init__(self, alpha, n_epochs, n_batches, poly=None, lbd=0):\n",
    "        self.alpha = alpha\n",
    "        self.n_epochs = n_epochs\n",
    "        self.model = None\n",
    "        self.n_batches = n_batches\n",
    "        self.lbd = lbd\n",
    "\n",
    "        if poly is not None:\n",
    "            self.poly = PolynomialFeatures(poly)\n",
    "        else:\n",
    "            self.poly = None\n",
    "\n",
    "    def fit(self, x, y):\n",
    "        \n",
    "        if self.poly is not None:\n",
    "            x = self.poly.fit_transform(x.reshape(-1, 1))\n",
    "\n",
    "        if x.ndim == 1:\n",
    "            x = x.reshape(-1, 1)\n",
    "\n",
    "        n_samples = x.shape[0]\n",
    "        n_features = x.shape[1]\n",
    "        \n",
    "        # Mantener 1/5 del dataset para validacion\n",
    "        idx = np.random.permutation(n_samples)\n",
    "        x_sh = x[idx]\n",
    "        y_sh = y[idx]\n",
    "        lim = int(n_samples*4/5)\n",
    "        x = x_sh[:lim]\n",
    "        y = y_sh[:lim]\n",
    "        x_val = x_sh[lim:]\n",
    "        y_val = y_sh[lim:]\n",
    "        n_samples = x.shape[0]\n",
    "\n",
    "        # 1 - Random w initialization\n",
    "        w = np.random.random(n_features)\n",
    "\n",
    "        for epoch in range(self.n_epochs):\n",
    "            # Shuffle samples and create batches\n",
    "            batch_size = int(n_samples / self.n_batches)\n",
    "            idx = np.random.permutation(n_samples)\n",
    "            x_sh = x[idx]\n",
    "            y_sh = y[idx]\n",
    "\n",
    "            for i in range(self.n_batches):\n",
    "                bx = x_sh[i * batch_size:(i + 1) * batch_size]\n",
    "                by = y_sh[i * batch_size:(i + 1) * batch_size]\n",
    "                reg_factor = 1 - 2 * self.lbd * self.alpha\n",
    "                w = reg_factor * w - self.alpha * (-2 / n_samples) * np.sum((by - bx @ w)[:, np.newaxis] * bx, axis=0)\n",
    "        \n",
    "            mse_eval = MSE()\n",
    "            train_error = mse_eval(y_sh, x_sh @ w).round(decimals=1)\n",
    "            validation_error = mse_eval(y_val, x_val @ w).round(decimals=1)\n",
    "            print(\"Epoch: \" + str(epoch) + \" | Training error: \" + str(train_error) + \" Validation error: \" + str(validation_error))\n",
    "        \n",
    "        self.model = w\n",
    "\n",
    "    def predict(self, x):\n",
    "\n",
    "        if self.poly is not None:\n",
    "            x = self.poly.fit_transform(x.reshape(-1, 1))\n",
    "\n",
    "        if x.ndim == 1:\n",
    "            x = x.reshape(-1, 1)\n",
    "\n",
    "        return x @ self.model\n",
    "\n",
    "    def fit_transform(self, x, y):\n",
    "        self.fit(x, y)\n",
    "        return self.predict(x).reshape(1, -1)\n"
   ]
  },
  {
   "cell_type": "code",
   "execution_count": 80,
   "id": "fbf033f1",
   "metadata": {},
   "outputs": [
    {
     "ename": "ValueError",
     "evalue": "operands could not be broadcast together with shapes (21,1,21) (21,4) ",
     "output_type": "error",
     "traceback": [
      "\u001b[0;31m---------------------------------------------------------------------------\u001b[0m",
      "\u001b[0;31mValueError\u001b[0m                                Traceback (most recent call last)",
      "\u001b[0;32m<ipython-input-80-b6af09e43f5b>\u001b[0m in \u001b[0;36m<module>\u001b[0;34m\u001b[0m\n\u001b[1;32m      1\u001b[0m \u001b[0mbt\u001b[0m \u001b[0;34m=\u001b[0m \u001b[0mMiniBatchGradientDescent\u001b[0m\u001b[0;34m(\u001b[0m\u001b[0malpha\u001b[0m\u001b[0;34m=\u001b[0m\u001b[0;36m0.1\u001b[0m\u001b[0;34m,\u001b[0m \u001b[0mn_epochs\u001b[0m\u001b[0;34m=\u001b[0m\u001b[0;36m50\u001b[0m\u001b[0;34m,\u001b[0m \u001b[0mn_batches\u001b[0m\u001b[0;34m=\u001b[0m\u001b[0;36m15\u001b[0m\u001b[0;34m,\u001b[0m \u001b[0mpoly\u001b[0m\u001b[0;34m=\u001b[0m\u001b[0;36m3\u001b[0m\u001b[0;34m,\u001b[0m \u001b[0mlbd\u001b[0m\u001b[0;34m=\u001b[0m\u001b[0;36m0.001\u001b[0m\u001b[0;34m)\u001b[0m\u001b[0;34m\u001b[0m\u001b[0;34m\u001b[0m\u001b[0m\n\u001b[0;32m----> 2\u001b[0;31m \u001b[0mbt\u001b[0m\u001b[0;34m.\u001b[0m\u001b[0mfit\u001b[0m\u001b[0;34m(\u001b[0m\u001b[0mX_train\u001b[0m\u001b[0;34m,\u001b[0m \u001b[0my_train\u001b[0m\u001b[0;34m)\u001b[0m\u001b[0;34m\u001b[0m\u001b[0;34m\u001b[0m\u001b[0m\n\u001b[0m\u001b[1;32m      3\u001b[0m \u001b[0;34m\u001b[0m\u001b[0m\n\u001b[1;32m      4\u001b[0m \u001b[0my_pred\u001b[0m \u001b[0;34m=\u001b[0m \u001b[0mbt\u001b[0m\u001b[0;34m.\u001b[0m\u001b[0mpredict\u001b[0m\u001b[0;34m(\u001b[0m\u001b[0mX_test\u001b[0m\u001b[0;34m)\u001b[0m\u001b[0;34m\u001b[0m\u001b[0;34m\u001b[0m\u001b[0m\n\u001b[1;32m      5\u001b[0m \u001b[0;34m\u001b[0m\u001b[0m\n",
      "\u001b[0;32m<ipython-input-79-75ce7bfd983b>\u001b[0m in \u001b[0;36mfit\u001b[0;34m(self, x, y)\u001b[0m\n\u001b[1;32m     50\u001b[0m                 \u001b[0mby\u001b[0m \u001b[0;34m=\u001b[0m \u001b[0my_sh\u001b[0m\u001b[0;34m[\u001b[0m\u001b[0mi\u001b[0m \u001b[0;34m*\u001b[0m \u001b[0mbatch_size\u001b[0m\u001b[0;34m:\u001b[0m\u001b[0;34m(\u001b[0m\u001b[0mi\u001b[0m \u001b[0;34m+\u001b[0m \u001b[0;36m1\u001b[0m\u001b[0;34m)\u001b[0m \u001b[0;34m*\u001b[0m \u001b[0mbatch_size\u001b[0m\u001b[0;34m]\u001b[0m\u001b[0;34m\u001b[0m\u001b[0;34m\u001b[0m\u001b[0m\n\u001b[1;32m     51\u001b[0m                 \u001b[0mreg_factor\u001b[0m \u001b[0;34m=\u001b[0m \u001b[0;36m1\u001b[0m \u001b[0;34m-\u001b[0m \u001b[0;36m2\u001b[0m \u001b[0;34m*\u001b[0m \u001b[0mself\u001b[0m\u001b[0;34m.\u001b[0m\u001b[0mlbd\u001b[0m \u001b[0;34m*\u001b[0m \u001b[0mself\u001b[0m\u001b[0;34m.\u001b[0m\u001b[0malpha\u001b[0m\u001b[0;34m\u001b[0m\u001b[0;34m\u001b[0m\u001b[0m\n\u001b[0;32m---> 52\u001b[0;31m                 \u001b[0mw\u001b[0m \u001b[0;34m=\u001b[0m \u001b[0mreg_factor\u001b[0m \u001b[0;34m*\u001b[0m \u001b[0mw\u001b[0m \u001b[0;34m-\u001b[0m \u001b[0mself\u001b[0m\u001b[0;34m.\u001b[0m\u001b[0malpha\u001b[0m \u001b[0;34m*\u001b[0m \u001b[0;34m(\u001b[0m\u001b[0;34m-\u001b[0m\u001b[0;36m2\u001b[0m \u001b[0;34m/\u001b[0m \u001b[0mn_samples\u001b[0m\u001b[0;34m)\u001b[0m \u001b[0;34m*\u001b[0m \u001b[0mnp\u001b[0m\u001b[0;34m.\u001b[0m\u001b[0msum\u001b[0m\u001b[0;34m(\u001b[0m\u001b[0;34m(\u001b[0m\u001b[0mby\u001b[0m \u001b[0;34m-\u001b[0m \u001b[0mbx\u001b[0m \u001b[0;34m@\u001b[0m \u001b[0mw\u001b[0m\u001b[0;34m)\u001b[0m\u001b[0;34m[\u001b[0m\u001b[0;34m:\u001b[0m\u001b[0;34m,\u001b[0m \u001b[0mnp\u001b[0m\u001b[0;34m.\u001b[0m\u001b[0mnewaxis\u001b[0m\u001b[0;34m]\u001b[0m \u001b[0;34m*\u001b[0m \u001b[0mbx\u001b[0m\u001b[0;34m,\u001b[0m \u001b[0maxis\u001b[0m\u001b[0;34m=\u001b[0m\u001b[0;36m0\u001b[0m\u001b[0;34m)\u001b[0m\u001b[0;34m\u001b[0m\u001b[0;34m\u001b[0m\u001b[0m\n\u001b[0m\u001b[1;32m     53\u001b[0m \u001b[0;34m\u001b[0m\u001b[0m\n\u001b[1;32m     54\u001b[0m             \u001b[0mmse_eval\u001b[0m \u001b[0;34m=\u001b[0m \u001b[0mMSE\u001b[0m\u001b[0;34m(\u001b[0m\u001b[0;34m)\u001b[0m\u001b[0;34m\u001b[0m\u001b[0;34m\u001b[0m\u001b[0m\n",
      "\u001b[0;31mValueError\u001b[0m: operands could not be broadcast together with shapes (21,1,21) (21,4) "
     ]
    }
   ],
   "source": [
    "bt = MiniBatchGradientDescent(alpha=0.1, n_epochs=50, n_batches=15, poly=3, lbd=0.001)\n",
    "bt.fit(X_train, y_train)\n",
    "\n",
    "y_pred = bt.predict(X_test)\n",
    "\n",
    "plt.scatter(X_test, y_test)\n",
    "plt.scatter(X_test, y_pred);"
   ]
  },
  {
   "cell_type": "code",
   "execution_count": 38,
   "id": "12f43348",
   "metadata": {},
   "outputs": [
    {
     "name": "stdout",
     "output_type": "stream",
     "text": [
      "[[ 18.08207    -0.7965448  33.065804  -12.708985 ]]\n",
      "[ 18.00813472  -2.42488046  32.85248976 -11.82022795]\n"
     ]
    },
    {
     "data": {
      "image/png": "[encoded data removed]",
      "text/plain": [
       "<Figure size 432x288 with 1 Axes>"
      ]
     },
     "metadata": {
      "needs_background": "light"
     },
     "output_type": "display_data"
    }
   ],
   "source": [
    "# Comparación de la solución cerrada con Mini-Batch\n",
    "w_bt = bt.model\n",
    "x = np.linspace(X_test.min(),X_test.max(), 100)\n",
    "y_bt = w_bt[0] * x**0 + w_bt[1] * x**1 + w_bt[2] * x**2 + w_bt[3] * x**3\n",
    "\n",
    "print(w_cl.T)\n",
    "print(w_bt)\n",
    "\n",
    "plt.plot(x,y_cl)\n",
    "plt.plot(x,y_bt);"
   ]
  },
  {
   "cell_type": "code",
   "execution_count": null,
   "id": "d07c4f51",
   "metadata": {},
   "outputs": [],
   "source": []
  }
 ],
 "metadata": {
  "kernelspec": {
   "display_name": "Python 3",
   "language": "python",
   "name": "python3"
  },
  "language_info": {
   "codemirror_mode": {
    "name": "ipython",
    "version": 3
   },
   "file_extension": ".py",
   "mimetype": "text/x-python",
   "name": "python",
   "nbconvert_exporter": "python",
   "pygments_lexer": "ipython3",
   "version": "3.8.8"
  }
 },
 "nbformat": 4,
 "nbformat_minor": 5
}
