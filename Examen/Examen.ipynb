{
 "cells": [
  {
   "cell_type": "code",
   "execution_count": 1,
   "id": "0b3917a0",
   "metadata": {},
   "outputs": [],
   "source": [
    "# Importar librerias\n",
    "import numpy as np\n",
    "import pickle\n",
    "import csv\n",
    "import matplotlib.pyplot as plt\n",
    "from sklearn.preprocessing import PolynomialFeatures, StandardScaler"
   ]
  },
  {
   "cell_type": "code",
   "execution_count": 22,
   "id": "61b85657",
   "metadata": {},
   "outputs": [
    {
     "name": "stdout",
     "output_type": "stream",
     "text": [
      "Creating new dataset instance\n",
      "Initialising dataset\n"
     ]
    }
   ],
   "source": [
    "# Importar dataset\n",
    "class Dataset:\n",
    "    \n",
    "    instance = None\n",
    "    data = None\n",
    "    \n",
    "    def __new__(cls, fname):\n",
    "        if Dataset.instance is None:\n",
    "            print(\"Creating new dataset instance\")\n",
    "            Dataset.instance = super(Dataset, cls).__new__(cls)\n",
    "            return Dataset.instance\n",
    "        else:\n",
    "            return Dataset.instance\n",
    "        \n",
    "    def __init__(self, fname):\n",
    "        print(\"Initialising dataset\")\n",
    "        \n",
    "        try:\n",
    "            with open(fname + '.pkl','rb') as pkl_file:\n",
    "                self.data = pickle.load(pkl_file)\n",
    "        except FileNotFoundError:\n",
    "            print(\"CSV file found. Building PKL file...\")\n",
    "            try:\n",
    "                with open(fname + '.csv') as csv_file:\n",
    "                    with open(fname + '.pkl','wb') as pkl_file:\n",
    "                        \n",
    "                        csv_reader = csv.reader(csv_file, delimiter=',')\n",
    "\n",
    "                        def generator(csv_reader):\n",
    "                            for line in csv_reader:\n",
    "                                yield(line[0],line[1])\n",
    "                        \n",
    "                        gen = generator(csv_reader)\n",
    "                        \n",
    "                        structure = [('X', np.float32),\n",
    "                                     ('y', np.float32)]\n",
    "                        \n",
    "                        array = np.fromiter(gen, dtype=structure)\n",
    "                        \n",
    "                        pickle.dump(array, pkl_file, protocol=pickle.HIGHEST_PROTOCOL)\n",
    "                        \n",
    "                    pkl_file.close()\n",
    "                \n",
    "                with open(fname + '.pkl','rb') as pkl_file:\n",
    "                    self.data = pickle.load(pkl_file)\n",
    "            except FileNotFoundError:\n",
    "                print(\"No PKL or CSV named \" + fname + \" was found.\")\n",
    "            finally:\n",
    "                csv_file.close()\n",
    "        finally:\n",
    "            pkl_file.close()\n",
    "\n",
    "dataset = Dataset('clase_8_dataset')"
   ]
  },
  {
   "cell_type": "code",
   "execution_count": 23,
   "id": "9811a661",
   "metadata": {},
   "outputs": [
    {
     "name": "stdout",
     "output_type": "stream",
     "text": [
      "(500,)\n",
      "(500,)\n"
     ]
    },
    {
     "data": {
      "image/png": "[encoded data removed]",
      "text/plain": [
       "<Figure size 432x288 with 1 Axes>"
      ]
     },
     "metadata": {
      "needs_background": "light"
     },
     "output_type": "display_data"
    }
   ],
   "source": [
    "# Graficar dataset\n",
    "X = dataset.data['X']\n",
    "y = dataset.data['y']\n",
    "\n",
    "plt.scatter(X,y);\n",
    "print(X.shape)\n",
    "print(y.shape)"
   ]
  },
  {
   "cell_type": "code",
   "execution_count": 24,
   "id": "53b5a8a6",
   "metadata": {},
   "outputs": [],
   "source": [
    "# Normalizar el dataset\n",
    "X = StandardScaler(with_std=True).fit_transform(X.reshape(-1, 1))"
   ]
  },
  {
   "cell_type": "code",
   "execution_count": 5,
   "id": "71f030bf",
   "metadata": {},
   "outputs": [],
   "source": [
    "# Dividir dataset\n",
    "def splitDataset(X, y, p):\n",
    "    \n",
    "    idx = np.random.permutation(X.shape[0])\n",
    "    X_sh = X[idx]\n",
    "    y_sh = y[idx]\n",
    "    \n",
    "    lim = int(X.shape[0]*p)\n",
    "\n",
    "    return X_sh[:lim], X_sh[lim:], y_sh[:lim], y_sh[lim:]\n",
    "\n",
    "X_train, X_test, y_train, y_test = splitDataset(X, y, 0.8)"
   ]
  },
  {
   "cell_type": "code",
   "execution_count": 6,
   "id": "55b15cb0",
   "metadata": {},
   "outputs": [],
   "source": [
    "# Regresión Lineal\n",
    "class LinearRegression():\n",
    "\n",
    "    def fit(self, x, y):\n",
    "        if x.ndim == 1:\n",
    "            w = (x.T @ y) / (x.T @ x)\n",
    "        else:\n",
    "            w = np.linalg.inv(x.T @ x) @ x.T @ y\n",
    "        self.model = w\n",
    "\n",
    "    def predict(self, x):\n",
    "        return self.model @ x"
   ]
  },
  {
   "cell_type": "code",
   "execution_count": 7,
   "id": "6f3e465c",
   "metadata": {},
   "outputs": [],
   "source": [
    "# Regresión Polinómica\n",
    "class PolynomialRegression(LinearRegression):\n",
    "\n",
    "    def __init__(self, grade):\n",
    "        self.poly = PolynomialFeatures(grade)\n",
    "\n",
    "    def fit(self, x, y):\n",
    "        res = self.poly.fit_transform(x.reshape(-1, 1))\n",
    "        super().fit(res, y.reshape(-1, 1))\n",
    "\n",
    "    def predict(self, x):\n",
    "        return self.poly.fit_transform(x.reshape(-1, 1)) @ self.model\n",
    "\n",
    "    def fit_transform(self, x, y):\n",
    "        self.fit(x, y)\n",
    "        return self.predict(x).reshape(1, -1)"
   ]
  },
  {
   "cell_type": "code",
   "execution_count": 8,
   "id": "a1aa5d51",
   "metadata": {},
   "outputs": [],
   "source": [
    "class MSE():\n",
    "    def __call__(self, target, prediction):\n",
    "        return np.mean((target - prediction) ** 2)"
   ]
  },
  {
   "cell_type": "code",
   "execution_count": 9,
   "id": "3b8b84d9",
   "metadata": {},
   "outputs": [],
   "source": [
    "# K-folds\n",
    "def k_folds(X, y, k, n):\n",
    "    \n",
    "    p_reg = PolynomialRegression(n)\n",
    "\n",
    "    mse_eval = MSE()\n",
    "    mse_list = []\n",
    "\n",
    "    chunk_size = int(len(X) / k)\n",
    "\n",
    "    for i in range(0, len(X), chunk_size):\n",
    "        end = i + chunk_size if i + chunk_size <= len(X) else len(X)\n",
    "        X_valid = X[i: end]\n",
    "        y_valid = y[i: end]\n",
    "        X_train = np.concatenate([X[: i], X[end:]])\n",
    "        y_train = np.concatenate([y[: i], y[end:]])\n",
    "\n",
    "        p_reg.fit(X_train, y_train)\n",
    "        y_pred = p_reg.predict(X_valid)\n",
    "        \n",
    "#         plt.figure()\n",
    "#         plt.scatter(X_valid, y_valid)\n",
    "#         plt.scatter(X_valid,y_pred)\n",
    "        \n",
    "        k_mse = mse_eval(y_valid, y_pred)\n",
    "        \n",
    "        mse_list.append(k_mse)\n",
    "        \n",
    "    mean_mse = np.mean(mse_list)\n",
    "\n",
    "    return mean_mse"
   ]
  },
  {
   "cell_type": "code",
   "execution_count": 10,
   "id": "3aa7515a",
   "metadata": {
    "scrolled": false
   },
   "outputs": [
    {
     "data": {
      "image/png": "[encoded data removed]",
      "text/plain": [
       "<Figure size 432x288 with 1 Axes>"
      ]
     },
     "metadata": {
      "needs_background": "light"
     },
     "output_type": "display_data"
    }
   ],
   "source": [
    "# Usar k-folds por cada grado de regresion polinómica de 1 a 4\n",
    "grades = [1,2,3,4]\n",
    "mses = []\n",
    "\n",
    "for g in grades:\n",
    "    mse = k_folds(X_train, y_train, 5, g)\n",
    "    mses.append(mse)\n",
    "    \n",
    "plt.plot(grades, mses);"
   ]
  },
  {
   "cell_type": "code",
   "execution_count": 15,
   "id": "b1b7f4da",
   "metadata": {},
   "outputs": [
    {
     "data": {
      "image/png": "[encoded data removed]",
      "text/plain": [
       "<Figure size 432x288 with 1 Axes>"
      ]
     },
     "metadata": {
      "needs_background": "light"
     },
     "output_type": "display_data"
    }
   ],
   "source": [
    "# Selección del mejor modelo (polinomio grado 3)\n",
    "p_reg = PolynomialRegression(3)\n",
    "yp_train = p_reg.fit_transform(X_train, y_train)\n",
    "yp_test = p_reg.predict(X_test)\n",
    "\n",
    "w_cl = p_reg.model\n",
    "x = np.linspace(X_test.min(),X_test.max(), 100)\n",
    "y_cl = w_cl[0] * x**0 + w_cl[1] * x**1 + w_cl[2] * x**2 + w_cl[3] * x**3\n",
    "\n",
    "plt.plot(x,y_cl)\n",
    "plt.scatter(X_test, y_test);"
   ]
  },
  {
   "cell_type": "code",
   "execution_count": 34,
   "id": "85213946",
   "metadata": {},
   "outputs": [],
   "source": [
    "# Mini-Batch Gradient Descent\n",
    "class MiniBatchGradientDescent:\n",
    "\n",
    "    def __init__(self, alpha, n_epochs, n_batches, poly=None, lbd=0):\n",
    "        self.alpha = alpha\n",
    "        self.n_epochs = n_epochs\n",
    "        self.model = None\n",
    "        self.n_batches = n_batches\n",
    "        self.lbd = lbd\n",
    "\n",
    "        if poly is not None:\n",
    "            self.poly = PolynomialFeatures(poly)\n",
    "        else:\n",
    "            self.poly = None\n",
    "\n",
    "    def fit(self, x, y):\n",
    "        \n",
    "        if self.poly is not None:\n",
    "            x = self.poly.fit_transform(x.reshape(-1, 1))\n",
    "\n",
    "        if x.ndim == 1:\n",
    "            x = x.reshape(-1, 1)\n",
    "\n",
    "        n_samples = x.shape[0]\n",
    "        n_features = x.shape[1]\n",
    "        \n",
    "        # Mantener 1/5 del dataset para validacion\n",
    "        idx = np.random.permutation(n_samples)\n",
    "        x_sh = x[idx]\n",
    "        y_sh = y[idx]\n",
    "        lim = int(n_samples*4/5)\n",
    "        x = x_sh[:lim]\n",
    "        y = y_sh[:lim]\n",
    "        x_val = x_sh[lim:]\n",
    "        y_val = y_sh[lim:]\n",
    "        n_samples = x.shape[0]\n",
    "\n",
    "        # 1 - Random w initialization\n",
    "        w = np.random.random(n_features)\n",
    "\n",
    "        for epoch in range(self.n_epochs):\n",
    "            # Shuffle samples and create batches\n",
    "            batch_size = int(n_samples / self.n_batches)\n",
    "            idx = np.random.permutation(n_samples)\n",
    "            x_sh = x[idx]\n",
    "            y_sh = y[idx]\n",
    "\n",
    "            for i in range(self.n_batches):\n",
    "                bx = x_sh[i * batch_size:(i + 1) * batch_size]\n",
    "                by = y_sh[i * batch_size:(i + 1) * batch_size]\n",
    "                reg_factor = 1 - 2 * self.lbd * self.alpha\n",
    "                w = reg_factor * w - self.alpha * (-2 / n_samples) * np.sum((by - bx @ w)[:, np.newaxis] * bx, axis=0)\n",
    "        \n",
    "            mse_eval = MSE()\n",
    "            train_error = mse_eval(y_sh, x_sh @ w).round(decimals=2)\n",
    "            validation_error = mse_eval(y_val, x_val @ w).round(decimals=2)\n",
    "            print(\"Epoch: \" + str(epoch) + \" | Training error: \" + str(train_error) + \" Validation error: \" + str(validation_error))\n",
    "        \n",
    "        self.model = w\n",
    "\n",
    "    def predict(self, x):\n",
    "\n",
    "        if self.poly is not None:\n",
    "            x = self.poly.fit_transform(x.reshape(-1, 1))\n",
    "\n",
    "        if x.ndim == 1:\n",
    "            x = x.reshape(-1, 1)\n",
    "\n",
    "        return x @ self.model\n",
    "\n",
    "    def fit_transform(self, x, y):\n",
    "        self.fit(x, y)\n",
    "        return self.predict(x).reshape(1, -1)\n"
   ]
  },
  {
   "cell_type": "code",
   "execution_count": 35,
   "id": "96eb83c6",
   "metadata": {},
   "outputs": [
    {
     "name": "stdout",
     "output_type": "stream",
     "text": [
      "Epoch: 0 | Training error: 1374.6 Validation error: 1925.98\n",
      "Epoch: 1 | Training error: 552.43 Validation error: 777.01\n",
      "Epoch: 2 | Training error: 231.59 Validation error: 330.77\n",
      "Epoch: 3 | Training error: 101.93 Validation error: 146.32\n",
      "Epoch: 4 | Training error: 51.85 Validation error: 75.41\n",
      "Epoch: 5 | Training error: 30.9 Validation error: 44.04\n",
      "Epoch: 6 | Training error: 22.25 Validation error: 30.87\n",
      "Epoch: 7 | Training error: 18.39 Validation error: 24.2\n",
      "Epoch: 8 | Training error: 16.58 Validation error: 20.94\n",
      "Epoch: 9 | Training error: 15.46 Validation error: 18.8\n",
      "Epoch: 10 | Training error: 14.79 Validation error: 17.39\n",
      "Epoch: 11 | Training error: 14.32 Validation error: 16.67\n",
      "Epoch: 12 | Training error: 13.95 Validation error: 16.02\n",
      "Epoch: 13 | Training error: 13.63 Validation error: 15.42\n",
      "Epoch: 14 | Training error: 13.35 Validation error: 14.97\n",
      "Epoch: 15 | Training error: 13.1 Validation error: 14.59\n",
      "Epoch: 16 | Training error: 12.89 Validation error: 14.21\n",
      "Epoch: 17 | Training error: 12.69 Validation error: 13.92\n",
      "Epoch: 18 | Training error: 12.48 Validation error: 13.38\n",
      "Epoch: 19 | Training error: 12.31 Validation error: 13.1\n",
      "Epoch: 20 | Training error: 12.14 Validation error: 12.75\n",
      "Epoch: 21 | Training error: 12.0 Validation error: 12.55\n",
      "Epoch: 22 | Training error: 11.87 Validation error: 12.25\n",
      "Epoch: 23 | Training error: 11.78 Validation error: 12.04\n",
      "Epoch: 24 | Training error: 11.67 Validation error: 11.84\n",
      "Epoch: 25 | Training error: 11.57 Validation error: 11.65\n",
      "Epoch: 26 | Training error: 11.47 Validation error: 11.52\n",
      "Epoch: 27 | Training error: 11.4 Validation error: 11.37\n",
      "Epoch: 28 | Training error: 11.33 Validation error: 11.24\n",
      "Epoch: 29 | Training error: 11.27 Validation error: 11.15\n",
      "Epoch: 30 | Training error: 11.21 Validation error: 10.94\n",
      "Epoch: 31 | Training error: 11.14 Validation error: 10.88\n",
      "Epoch: 32 | Training error: 11.08 Validation error: 10.8\n",
      "Epoch: 33 | Training error: 11.02 Validation error: 10.68\n",
      "Epoch: 34 | Training error: 10.98 Validation error: 10.55\n",
      "Epoch: 35 | Training error: 10.93 Validation error: 10.44\n",
      "Epoch: 36 | Training error: 10.88 Validation error: 10.34\n",
      "Epoch: 37 | Training error: 10.84 Validation error: 10.29\n",
      "Epoch: 38 | Training error: 10.8 Validation error: 10.24\n",
      "Epoch: 39 | Training error: 10.75 Validation error: 10.09\n",
      "Epoch: 40 | Training error: 10.73 Validation error: 10.05\n",
      "Epoch: 41 | Training error: 10.69 Validation error: 9.99\n",
      "Epoch: 42 | Training error: 10.67 Validation error: 9.88\n",
      "Epoch: 43 | Training error: 10.61 Validation error: 9.79\n",
      "Epoch: 44 | Training error: 10.57 Validation error: 9.71\n",
      "Epoch: 45 | Training error: 10.57 Validation error: 9.72\n",
      "Epoch: 46 | Training error: 10.55 Validation error: 9.74\n",
      "Epoch: 47 | Training error: 10.54 Validation error: 9.73\n",
      "Epoch: 48 | Training error: 10.5 Validation error: 9.61\n",
      "Epoch: 49 | Training error: 10.48 Validation error: 9.5\n"
     ]
    },
    {
     "data": {
      "image/png": "[encoded data removed]",
      "text/plain": [
       "<Figure size 432x288 with 1 Axes>"
      ]
     },
     "metadata": {
      "needs_background": "light"
     },
     "output_type": "display_data"
    }
   ],
   "source": [
    "bt = MiniBatchGradientDescent(alpha=0.1, n_epochs=50, n_batches=15, poly=3, lbd=0.001)\n",
    "bt.fit(X_train, y_train)\n",
    "\n",
    "y_pred = bt.predict(X_test)\n",
    "\n",
    "plt.scatter(X_test, y_test)\n",
    "plt.scatter(X_test, y_pred);"
   ]
  },
  {
   "cell_type": "code",
   "execution_count": 14,
   "id": "7f91e0c2",
   "metadata": {},
   "outputs": [
    {
     "name": "stdout",
     "output_type": "stream",
     "text": [
      "[[ 18.08207    -0.7965448  33.065804  -12.708985 ]]\n",
      "[ 18.07706441  -1.34155853  32.77027592 -12.37014131]\n"
     ]
    },
    {
     "data": {
      "image/png": "[encoded data removed]",
      "text/plain": [
       "<Figure size 432x288 with 1 Axes>"
      ]
     },
     "metadata": {
      "needs_background": "light"
     },
     "output_type": "display_data"
    }
   ],
   "source": [
    "# Comparación de la solución cerrada con Mini-Batch\n",
    "w_bt = bt.model\n",
    "x = np.linspace(X_test.min(),X_test.max(), 100)\n",
    "y_bt = w_bt[0] * x**0 + w_bt[1] * x**1 + w_bt[2] * x**2 + w_bt[3] * x**3\n",
    "\n",
    "print(w_cl.T)\n",
    "print(w_bt)\n",
    "\n",
    "plt.plot(x,y_cl)\n",
    "plt.plot(x,y_bt);"
   ]
  }
 ],
 "metadata": {
  "kernelspec": {
   "display_name": "Python 3",
   "language": "python",
   "name": "python3"
  },
  "language_info": {
   "codemirror_mode": {
    "name": "ipython",
    "version": 3
   },
   "file_extension": ".py",
   "mimetype": "text/x-python",
   "name": "python",
   "nbconvert_exporter": "python",
   "pygments_lexer": "ipython3",
   "version": "3.8.8"
  }
 },
 "nbformat": 4,
 "nbformat_minor": 5
}
