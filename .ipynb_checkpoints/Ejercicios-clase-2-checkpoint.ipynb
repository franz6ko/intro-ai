{
 "cells": [
  {
   "cell_type": "code",
   "execution_count": 1,
   "id": "45b26b80",
   "metadata": {},
   "outputs": [
    {
     "name": "stdout",
     "output_type": "stream",
     "text": [
      "[[1 0 0 0]\n",
      " [1 0 0 0]\n",
      " [0 1 0 0]\n",
      " [0 1 0 0]]\n",
      "['A' 'A' 'B' 'B']\n"
     ]
    }
   ],
   "source": [
    "import numpy as np\n",
    "\n",
    "# Ejercicio 1 (Dataset sintético)\n",
    "\n",
    "# Nº de muestras\n",
    "n = 4 \n",
    "\n",
    "# Centroides\n",
    "A = np.array([1, 0, 0, 0])\n",
    "B = np.array([0, 1, 0, 0])\n",
    "\n",
    "# Constante de separación\n",
    "cte = 1\n",
    "\n",
    "m = np.vstack((A,B))\n",
    "m = m*cte # + cte\n",
    "\n",
    "db = np.repeat(m, n/2, axis=0)\n",
    "\n",
    "# Desviación s\n",
    "dev = 1\n",
    "db = db + np.random.normal(0, dev, db.shape)\n",
    "print(db)\n",
    "\n",
    "tag = np.array([\"A\", \"B\"])\n",
    "tags = np.repeat(tag, n/2)\n",
    "print(tags)"
   ]
  },
  {
   "cell_type": "code",
   "execution_count": 71,
   "id": "6e0ccf8c",
   "metadata": {},
   "outputs": [
    {
     "name": "stdout",
     "output_type": "stream",
     "text": [
      "[[[1 0 0 0]]\n",
      "\n",
      " [[1 0 0 0]]]\n",
      "[[1 0 0 0]\n",
      " [1 0 0 0]\n",
      " [0 1 0 0]\n",
      " [0 1 0 0]]\n",
      "[[[ 0  0  0  0]\n",
      "  [ 0  0  0  0]\n",
      "  [ 1 -1  0  0]\n",
      "  [ 1 -1  0  0]]\n",
      "\n",
      " [[ 0  0  0  0]\n",
      "  [ 0  0  0  0]\n",
      "  [ 1 -1  0  0]\n",
      "  [ 1 -1  0  0]]]\n",
      "(2, 4, 4)\n",
      "[[0.         0.         1.41421356 1.41421356]\n",
      " [0.         0.         1.41421356 1.41421356]]\n",
      "(2, 4)\n"
     ]
    }
   ],
   "source": [
    "# Ejercicio 6\n",
    "\n",
    "i = np.random.randint(0, n-1, 2)\n",
    "rand_c = db[i]\n",
    "rand_c = rand_c[:, np.newaxis]\n",
    "\n",
    "print(rand_c)\n",
    "print(db)\n",
    "resta = rand_c - db\n",
    "print(resta)\n",
    "print(resta.shape)\n",
    "norm = np.linalg.norm(resta, axis=2)\n",
    "print(norm)\n",
    "print(norm.shape)\n",
    "\n",
    "## Probar en R2 para verlo graficamente, spectation maximization ?"
   ]
  },
  {
   "cell_type": "code",
   "execution_count": null,
   "id": "8711132b",
   "metadata": {},
   "outputs": [],
   "source": [
    "db"
   ]
  },
  {
   "cell_type": "code",
   "execution_count": null,
   "id": "8a31e7b4",
   "metadata": {},
   "outputs": [],
   "source": []
  }
 ],
 "metadata": {
  "kernelspec": {
   "display_name": "Python 3",
   "language": "python",
   "name": "python3"
  },
  "language_info": {
   "codemirror_mode": {
    "name": "ipython",
    "version": 3
   },
   "file_extension": ".py",
   "mimetype": "text/x-python",
   "name": "python",
   "nbconvert_exporter": "python",
   "pygments_lexer": "ipython3",
   "version": "3.8.8"
  }
 },
 "nbformat": 4,
 "nbformat_minor": 5
}
