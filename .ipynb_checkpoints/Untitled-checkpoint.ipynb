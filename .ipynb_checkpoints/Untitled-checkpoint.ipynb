{
 "cells": [
  {
   "cell_type": "code",
   "execution_count": 1,
   "id": "f54903a6",
   "metadata": {},
   "outputs": [],
   "source": [
    "import numpy as np"
   ]
  },
  {
   "cell_type": "code",
   "execution_count": 6,
   "id": "4b39cad7",
   "metadata": {},
   "outputs": [
    {
     "name": "stdout",
     "output_type": "stream",
     "text": [
      "Ejercicio 1\n",
      "X: [[0.99481096 0.43481343 0.03046574]\n",
      " [0.68265141 0.72233814 0.48683513]\n",
      " [0.0498044  0.92298952 0.08560792]]\n",
      "l-inf norm: [0.99481096 0.72233814 0.92298952]\n"
     ]
    }
   ],
   "source": [
    "print(\"Ejercicio 1\")\n",
    "\n",
    "p = \"inf\" # 0,1,2,3,4,5,...,\"inf\"\n",
    "\n",
    "x = np.random.random((3,3))\n",
    "print(\"X: \" + str(x))\n",
    "\n",
    "if p == 0:\n",
    "    p_norms = np.sum(x > 0)\n",
    "elif p == \"inf\":\n",
    "    p_norms = np.max(x, axis=1)\n",
    "else:\n",
    "    p_norms = np.sum(np.abs(x)**p, axis=1)**(1/p)\n",
    "\n",
    "print(\"l-\" + str(p) + \" norm: \" + str(p_norms))"
   ]
  },
  {
   "cell_type": "code",
   "execution_count": 9,
   "id": "e3f294d1",
   "metadata": {},
   "outputs": [
    {
     "name": "stdout",
     "output_type": "stream",
     "text": [
      "Ejercicio 2\n",
      "X: [[0.52185089 0.06188702 0.82164098]\n",
      " [0.35522867 0.21280792 0.30016442]\n",
      " [0.80058939 0.70260974 0.42875391]]\n",
      "Indexes: [2 0 1]\n",
      "[[0.80058939 0.70260974 0.42875391]\n",
      " [0.52185089 0.06188702 0.82164098]\n",
      " [0.35522867 0.21280792 0.30016442]]\n"
     ]
    }
   ],
   "source": [
    "print(\"Ejercicio 2\")\n",
    "\n",
    "x = np.random.random((3,3))\n",
    "print(\"X: \" + str(x))\n",
    "\n",
    "p = 2\n",
    "p_norms = np.sum(np.abs(x)**p, axis=1)**(1/p)\n",
    "\n",
    "indexes = np.argsort(p_norms * -1)\n",
    "print(\"Indexes: \" + str(indexes))\n",
    "print(x[indexes])"
   ]
  },
  {
   "cell_type": "code",
   "execution_count": 16,
   "id": "a56c3a3a",
   "metadata": {},
   "outputs": [
    {
     "name": "stdout",
     "output_type": "stream",
     "text": [
      "Ejercicio 3\n",
      "0\n",
      "1\n",
      "-1\n",
      "15\n",
      "1\n"
     ]
    }
   ],
   "source": [
    "print(\"Ejercicio 3\")\n",
    "\n",
    "class IdxManager:\n",
    "    def __init__(self, ids):\n",
    "        self.idx2id = ids\n",
    "        self.id2idx = []\n",
    "\n",
    "        # remove duplicated values in ids\n",
    "        indexes = np.unique(ids, return_index=True)[1]\n",
    "        ids = np.array([ids[index] for index in sorted(indexes)])\n",
    "\n",
    "        self.id2idx = np.full((np.max(ids) + 1),-1)\n",
    "        self.id2idx[ids] = np.arange(ids.size)\n",
    "\n",
    "    def get_users_idx(self, user_id):\n",
    "        try:\n",
    "            return self.id2idx[user_id]\n",
    "        except IndexError:\n",
    "            return -1\n",
    "\n",
    "    def get_users_id(self, idx):\n",
    "        try:\n",
    "            return self.idx2id[idx]\n",
    "        except IndexError:\n",
    "            return -1\n",
    "\n",
    "idxManager = IdxManager([15, 12, 14, 10, 1, 2, 1])\n",
    "\n",
    "print(idxManager.get_users_idx(15))\n",
    "print(idxManager.get_users_idx(12))\n",
    "print(idxManager.get_users_idx(3))\n",
    "\n",
    "print(idxManager.get_users_id(0))\n",
    "print(idxManager.get_users_id(4))"
   ]
  },
  {
   "cell_type": "code",
   "execution_count": 17,
   "id": "32d2ed5f",
   "metadata": {},
   "outputs": [
    {
     "name": "stdout",
     "output_type": "stream",
     "text": [
      "Ejercicio 4\n",
      "Precision: 0.5\n",
      "Recall: 0.5\n",
      "Accuracy: 0.4\n"
     ]
    }
   ],
   "source": [
    "print(\"Ejercicio 4\")\n",
    "\n",
    "truth       = np.array([1,1,0,1,1,1,0,0,0,1])\n",
    "prediction  = np.array([1,1,1,1,0,0,1,1,0,0])\n",
    "\n",
    "TP = np.sum(truth & prediction)\n",
    "TN = np.sum((truth == False) & (prediction == False))\n",
    "FN = np.sum((truth == True) & (prediction == False))\n",
    "FP = np.sum((truth == False) & (prediction == True))\n",
    "\n",
    "precision = TP / (TP + FP)\n",
    "recall = TP / (TP + FN)\n",
    "accuracy = (TP + TN) / (TP + TN + FP + FN)\n",
    "\n",
    "print(\"Precision: \" + str(precision))\n",
    "print(\"Recall: \" + str(recall))\n",
    "print(\"Accuracy: \" + str(accuracy))"
   ]
  },
  {
   "cell_type": "code",
   "execution_count": 18,
   "id": "f171ae97",
   "metadata": {},
   "outputs": [
    {
     "name": "stdout",
     "output_type": "stream",
     "text": [
      "Ejercicio 10\n",
      "Precision for id 0: [0.5]\n",
      "Precision for id 1: [1.]\n",
      "Precision for id 2: [0.]\n",
      "Precision for id 3: [0.5]\n",
      "Average query precision: 0.5\n"
     ]
    }
   ],
   "source": [
    "print(\"Ejercicio 5\")\n",
    "\n",
    "T = True\n",
    "F = False\n",
    "\n",
    "q_id            = np.array([1,1,1,1,2,2,2,3,3,3,3,3,4,4,4,4])\n",
    "predicted_rank  = np.array([0,1,2,3,0,1,2,0,1,2,3,4,0,1,2,3]) # Para qué me sirve ?\n",
    "truth_relevance = np.array([T,F,T,F,T,T,T,F,F,F,F,F,T,F,F,T])\n",
    "\n",
    "q_precision = np.zeros((4,1))\n",
    "\n",
    "q_precision[0] = truth_relevance[q_id == 1].mean()\n",
    "q_precision[1] = truth_relevance[q_id == 2].mean()\n",
    "q_precision[2] = truth_relevance[q_id == 3].mean()\n",
    "q_precision[3] = truth_relevance[q_id == 4].mean()\n",
    "\n",
    "for i in range(4):\n",
    "    print(\"Precision for id \" + str(i) + \": \" + str(q_precision[i]))\n",
    "\n",
    "print(\"Average query precision: \" + str(q_precision.mean()))"
   ]
  },
  {
   "cell_type": "code",
   "execution_count": null,
   "id": "4cd01e61",
   "metadata": {},
   "outputs": [],
   "source": []
  },
  {
   "cell_type": "code",
   "execution_count": 117,
   "id": "01b3f731",
   "metadata": {
    "scrolled": true
   },
   "outputs": [
    {
     "ename": "SyntaxError",
     "evalue": "invalid syntax (<ipython-input-117-ae4640d2f9ca>, line 23)",
     "output_type": "error",
     "traceback": [
      "\u001b[0;36m  File \u001b[0;32m\"<ipython-input-117-ae4640d2f9ca>\"\u001b[0;36m, line \u001b[0;32m23\u001b[0m\n\u001b[0;31m    a[] += obj\u001b[0m\n\u001b[0m      ^\u001b[0m\n\u001b[0;31mSyntaxError\u001b[0m\u001b[0;31m:\u001b[0m invalid syntax\n"
     ]
    }
   ],
   "source": [
    "print(\"Ejercicio 10\")\n",
    "\n",
    "import pickle\n",
    "import csv\n",
    "\n",
    "structure = [('userId', np.int32),\n",
    "            ('movieId', np.int32),\n",
    "            ('rating', np.float32),\n",
    "            ('timestamp', np.int64)]\n",
    "\n",
    "with open('./ratings_test.csv') as csv_file:\n",
    "    csv_reader = csv.reader(csv_file, delimiter=',')\n",
    "    first_skipped = False\n",
    "    for line in csv_reader:\n",
    "        if not first_skipped:\n",
    "            first_skipped = True\n",
    "            continue\n",
    "        obj = np.array((line[0],line[1],line[2],line[3]), dtype=structure)\n",
    "\n",
    "\n",
    "#        print(np.fromstring(line, dtype=structure))  \n",
    "#        a = np.concatenate((a, np.array(line, dtype=structure)), dtype=structure)\n",
    "        #rint(np.concatenate(a,np.array(line)))\n",
    "#    print(a)    \n",
    "    \n",
    "#with open('./ratings_test.csv','rb') as file:\n",
    "#    data = pickle.load(file)\n",
    "    "
   ]
  },
  {
   "cell_type": "code",
   "execution_count": null,
   "id": "f284f33e",
   "metadata": {},
   "outputs": [],
   "source": []
  }
 ],
 "metadata": {
  "kernelspec": {
   "display_name": "Python 3",
   "language": "python",
   "name": "python3"
  },
  "language_info": {
   "codemirror_mode": {
    "name": "ipython",
    "version": 3
   },
   "file_extension": ".py",
   "mimetype": "text/x-python",
   "name": "python",
   "nbconvert_exporter": "python",
   "pygments_lexer": "ipython3",
   "version": "3.8.5"
  }
 },
 "nbformat": 4,
 "nbformat_minor": 5
}
