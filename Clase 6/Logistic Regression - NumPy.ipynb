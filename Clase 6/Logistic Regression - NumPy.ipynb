{
 "cells": [
  {
   "cell_type": "markdown",
   "metadata": {},
   "source": [
    "# Logistic Regression - NumPy"
   ]
  },
  {
   "cell_type": "markdown",
   "metadata": {},
   "source": [
    "El objetivo de éste ejercicio es que implementen paso a paso los building blocks del modelo de regresión logística, para finalmente crear una clase del modelo."
   ]
  },
  {
   "cell_type": "markdown",
   "metadata": {},
   "source": [
    "## Cargamos las Librerías"
   ]
  },
  {
   "cell_type": "code",
   "execution_count": 2,
   "metadata": {},
   "outputs": [],
   "source": [
    "import numpy as np\n",
    "import time\n",
    "import matplotlib.pyplot as plt\n",
    "from sklearn.preprocessing import StandardScaler"
   ]
  },
  {
   "cell_type": "markdown",
   "metadata": {},
   "source": [
    "## Implementación de Building Blocks del Modelo"
   ]
  },
  {
   "cell_type": "markdown",
   "metadata": {},
   "source": [
    "A continuación, se deberán implementar paso a paso los distintos bloques de código que conforman el modelo, junto con algunas funciones auxiliares."
   ]
  },
  {
   "cell_type": "markdown",
   "metadata": {},
   "source": [
    "### Función Sigmoid"
   ]
  },
  {
   "cell_type": "markdown",
   "metadata": {},
   "source": [
    "Implementar la función: $g(z) = \\frac{1}{1 + e^{-z}}$ en NumPy"
   ]
  },
  {
   "cell_type": "code",
   "execution_count": 3,
   "metadata": {},
   "outputs": [],
   "source": [
    "def sigmoid(z):\n",
    "    return 1/(1+np.exp(-z))"
   ]
  },
  {
   "cell_type": "markdown",
   "metadata": {},
   "source": [
    "### Binary Cross Entropy"
   ]
  },
  {
   "cell_type": "markdown",
   "metadata": {},
   "source": [
    "Implementar la función de costo: $J(w) = \\frac{1}{n}\\sum_{i=1}^{n}L\\left ( \\hat{y},y \\right )= \\frac{1}{n}\\sum_{i=1}^{n}\\left [y^{(i)}log(\\hat{y}^{(i)})+ (1-y^{(i)})log(1-\\hat{y}^{(i)}) \\right ]$"
   ]
  },
  {
   "cell_type": "code",
   "execution_count": 4,
   "metadata": {},
   "outputs": [],
   "source": [
    "def cost(y, y_hat):\n",
    "    return -np.mean(y*(np.log(y_hat)) + (1-y)*np.log(1-y_hat))"
   ]
  },
  {
   "cell_type": "markdown",
   "metadata": {},
   "source": [
    "### Gradiente"
   ]
  },
  {
   "cell_type": "markdown",
   "metadata": {},
   "source": [
    "Implementar el gradiente de la función costo respecto de los parámetros: $\\frac{\\partial J(w)}{\\partial w} = \\frac{1}{n}\\sum_{i=1}^{n}\\left ( \\hat{y}^{i}-y^{i}\\right )\\bar{x}^i$"
   ]
  },
  {
   "cell_type": "code",
   "execution_count": 5,
   "metadata": {},
   "outputs": [],
   "source": [
    "def gradient(y, y_hat, x):\n",
    "    return np.mean((y_hat-y)[:, np.newaxis]*x, axis=0)"
   ]
  },
  {
   "cell_type": "markdown",
   "metadata": {},
   "source": [
    "### Normalización"
   ]
  },
  {
   "cell_type": "markdown",
   "metadata": {},
   "source": [
    "Implementar normalización Z-score de las features de entrada"
   ]
  },
  {
   "cell_type": "code",
   "execution_count": 6,
   "metadata": {},
   "outputs": [],
   "source": [
    "def zscore(x):\n",
    "    return StandardScaler().fit_transform(x)"
   ]
  },
  {
   "cell_type": "markdown",
   "metadata": {},
   "source": [
    "### Métricas (Precision, Recall y Accuracy)"
   ]
  },
  {
   "cell_type": "markdown",
   "metadata": {},
   "source": [
    "Implementar las métricas en NumPy"
   ]
  },
  {
   "cell_type": "code",
   "execution_count": 7,
   "metadata": {},
   "outputs": [],
   "source": [
    "def metrics(y, y_hat):\n",
    "    truth = y\n",
    "    prediction = y_hat\n",
    "    \n",
    "    TP = np.sum(truth & prediction)\n",
    "    TN = np.sum((truth == False) & (prediction == False))\n",
    "    FN = np.sum((truth == True) & (prediction == False))\n",
    "    FP = np.sum((truth == False) & (prediction == True))\n",
    "\n",
    "    precision = TP / (TP + FP)\n",
    "    recall = TP / (TP + FN)\n",
    "    accuracy = (TP + TN) / (TP + TN + FP + FN)\n",
    "    \n",
    "    return precision, recall, accuracy"
   ]
  },
  {
   "cell_type": "markdown",
   "metadata": {},
   "source": [
    "### Implementar función fit"
   ]
  },
  {
   "cell_type": "markdown",
   "metadata": {},
   "source": [
    "Utilizas los bloques anteriores, junto con la implementación en NumPy del algoritmo Mini-Batch gradient descent, para crear la función fit de nuestro modelo de regresión logística. Cada un determinado número de epochs calculen el loss, almacénenlo en una lista y hagan un log de los valores. La función debe devolver los parámetros ajustados."
   ]
  },
  {
   "cell_type": "code",
   "execution_count": 8,
   "metadata": {},
   "outputs": [],
   "source": [
    "def fit(X, y, lr, b, epochs, bias=True):\n",
    "\n",
    "    if bias:\n",
    "        X = np.hstack((np.ones((X.shape[0], 1)), X))\n",
    "    \n",
    "    n_samples = X.shape[0]\n",
    "    n_features = X.shape[1]\n",
    "    n_batches = b\n",
    "\n",
    "    # 1 - Random w initialization\n",
    "    w = np.random.random(n_features)\n",
    "    \n",
    "    for epoch in range(epochs):\n",
    "        # Shuffle samples and create batches\n",
    "        batch_size = int(n_samples / n_batches)\n",
    "        idx = np.random.permutation(n_samples)\n",
    "        x_sh = X[idx]\n",
    "        y_sh = y[idx]\n",
    "\n",
    "        for i in range(n_batches):\n",
    "            bx = x_sh[i * batch_size:(i + 1) * batch_size]\n",
    "            by = y_sh[i * batch_size:(i + 1) * batch_size]\n",
    "            \n",
    "            # 2 - Prediction\n",
    "            y_hat = sigmoid(bx @ w)\n",
    "            # 3,4 - Error & Gradient\n",
    "            g = gradient(by, y_hat, bx)\n",
    "            # 5 - Correction\n",
    "            w = w - lr * g\n",
    "            \n",
    "        if(epoch%500 == 0):\n",
    "            c = cost(by, y_hat)\n",
    "            print(\"Loss: \" + str(c))\n",
    "\n",
    "    return w"
   ]
  },
  {
   "cell_type": "markdown",
   "metadata": {},
   "source": [
    "### Implementar función predict"
   ]
  },
  {
   "cell_type": "markdown",
   "metadata": {},
   "source": [
    "Implementar la función predict usando los parámetros calculados y la función sigmoid. Prestar atención a las transformaciones de los datos de entrada. Asimismo, se debe tomar una decisión respecto de los valores de salida como: $p\\geq 0.5 \\to 1, p<0.5 \\to 0$"
   ]
  },
  {
   "cell_type": "code",
   "execution_count": 9,
   "metadata": {},
   "outputs": [],
   "source": [
    "def predict(X, w, bias=True):\n",
    "    \n",
    "    if bias:\n",
    "        X = np.hstack((np.ones((X.shape[0], 1)), X))\n",
    "        \n",
    "    return sigmoid(X @ w) > 0.5"
   ]
  },
  {
   "cell_type": "markdown",
   "metadata": {},
   "source": [
    "## Armar una clase LogisticRegression"
   ]
  },
  {
   "cell_type": "markdown",
   "metadata": {},
   "source": [
    "Armar una clase LogisticRegression que herede de BaseModel y tenga la siguiente estructura:"
   ]
  },
  {
   "cell_type": "code",
   "execution_count": 18,
   "metadata": {},
   "outputs": [],
   "source": [
    "from BaseModel import BaseModel\n",
    "\n",
    "class LogisticRegression(BaseModel):\n",
    "    \n",
    "    def sigmoid(self, z):\n",
    "        return 1/(1+np.exp(-z))\n",
    "    \n",
    "    def cost(self, y, y_hat):\n",
    "        return -np.mean(y*(np.log(y_hat)) + (1-y)*np.log(1-y_hat))\n",
    "    \n",
    "    def gradient(self, y, y_hat, x):\n",
    "        return np.mean((y_hat-y)[:, np.newaxis]*x, axis=0)\n",
    "\n",
    "    def fit(self, X, y, lr, b, epochs, bias=True):\n",
    "        \n",
    "        if bias:\n",
    "            X = np.hstack((np.ones((X.shape[0], 1)), X))\n",
    "\n",
    "        n_samples = X.shape[0]\n",
    "        n_features = X.shape[1]\n",
    "        n_batches = b\n",
    "\n",
    "        # 1 - Random w initialization\n",
    "        w = np.random.random(n_features)\n",
    "\n",
    "        for epoch in range(epochs):\n",
    "            # Shuffle samples and create batches\n",
    "            batch_size = int(n_samples / n_batches)\n",
    "            idx = np.random.permutation(n_samples)\n",
    "            x_sh = X[idx]\n",
    "            y_sh = y[idx]\n",
    "\n",
    "            for i in range(n_batches):\n",
    "                bx = x_sh[i * batch_size:(i + 1) * batch_size]\n",
    "                by = y_sh[i * batch_size:(i + 1) * batch_size]\n",
    "\n",
    "                # 2 - Prediction\n",
    "                y_hat = self.sigmoid(bx @ w)\n",
    "                # 3,4 - Error & Gradient\n",
    "                g = self.gradient(by, y_hat, bx)\n",
    "                # 5 - Correction\n",
    "#                 self.lbd = 0.01\n",
    "#                 reg_factor = 1 - 2 * self.lbd * lr\n",
    "#                 w = reg_factor * w - lr * g\n",
    "                w = w - lr * g\n",
    "            \n",
    "            if(epoch%100 == 0):\n",
    "                c = self.cost(by, y_hat)\n",
    "                print(\"Loss: \" + str(c))\n",
    "\n",
    "        self.model = w\n",
    "        \n",
    "    def predict(self, X, bias=True):\n",
    "\n",
    "        if bias:\n",
    "            X = np.hstack((np.ones((X.shape[0], 1)), X))\n",
    "            \n",
    "        return sigmoid(X @ self.model) > 0.5"
   ]
  },
  {
   "cell_type": "markdown",
   "metadata": {},
   "source": [
    "## Testear con Datasets sintéticos"
   ]
  },
  {
   "cell_type": "markdown",
   "metadata": {},
   "source": [
    "La librería Scikit-Learn tiene una función make_classification que nos permite armar datasets de prueba para problemas de clasificación. Prueben con datasets que tengan varios clusters por clase, que tengan menor o mayor separación y calculen las métricas en cada caso."
   ]
  },
  {
   "cell_type": "code",
   "execution_count": 22,
   "metadata": {
    "scrolled": false
   },
   "outputs": [
    {
     "name": "stdout",
     "output_type": "stream",
     "text": [
      "Loss: 0.5821967563093018\n",
      "Loss: 0.3940444422862218\n",
      "Loss: 0.4221744025462793\n",
      "Loss: 0.36179425612184646\n",
      "Loss: 0.33761211261535384\n",
      "Loss: 0.4967070770882705\n",
      "Loss: 0.29583862142273054\n",
      "Loss: 0.4704147682608318\n",
      "Loss: 0.4136785326852694\n",
      "Loss: 0.5463023402049981\n",
      "Loss: 0.41015527522003437\n",
      "Loss: 0.43660401156028805\n",
      "Loss: 0.32259433085263495\n",
      "Loss: 0.37049768753482387\n",
      "Loss: 0.44231085637028644\n",
      "Loss: 0.3457474708110259\n",
      "Loss: 0.4053073793432642\n",
      "Loss: 0.42669836400479483\n",
      "Loss: 0.401852928133037\n",
      "Loss: 0.4072267741283415\n",
      "Precision: 0.84\n",
      "Recall: 0.84\n",
      "Accuracy: 0.84\n",
      "[-0.08056096  0.58970237  2.03729199]\n"
     ]
    },
    {
     "data": {
      "image/png": "[encoded data removed]",
      "text/plain": [
       "<Figure size 432x288 with 1 Axes>"
      ]
     },
     "metadata": {
      "needs_background": "light"
     },
     "output_type": "display_data"
    }
   ],
   "source": [
    "from sklearn.datasets import make_classification\n",
    "X, y = make_classification(n_features=2, n_redundant=0, n_informative=2, random_state=3, n_clusters_per_class=2)\n",
    "\n",
    "X = StandardScaler().fit_transform(X)\n",
    "\n",
    "log_reg = LogisticRegression()\n",
    "log_reg.fit(X, y, 0.05, 4, 2000)\n",
    "y_hat = log_reg.predict(X)\n",
    "precision, recall, accuracy = metrics(y, y_hat)\n",
    "\n",
    "print(\"Precision: \" + str(precision.round(decimals=2)))\n",
    "print(\"Recall: \" + str(recall.round(decimals=2)))\n",
    "print(\"Accuracy: \" + str(accuracy.round(decimals=2)))\n",
    "\n",
    "plt.scatter(X[:, 0], X[:, 1], c=y)\n",
    "plt.xlabel('X1')\n",
    "plt.ylabel('X2')\n",
    "\n",
    "w = log_reg.model\n",
    "print(w)\n",
    "intercept = -(w[0] / w[2])\n",
    "slope = -(w[1] / w[2])\n",
    "yl = slope * X[:, 0] + intercept\n",
    "plt.plot(X[:, 0], yl, c=\"k\")\n",
    "\n",
    "plt.show()"
   ]
  },
  {
   "cell_type": "code",
   "execution_count": null,
   "metadata": {},
   "outputs": [],
   "source": []
  }
 ],
 "metadata": {
  "kernelspec": {
   "display_name": "Python 3",
   "language": "python",
   "name": "python3"
  },
  "language_info": {
   "codemirror_mode": {
    "name": "ipython",
    "version": 3
   },
   "file_extension": ".py",
   "mimetype": "text/x-python",
   "name": "python",
   "nbconvert_exporter": "python",
   "pygments_lexer": "ipython3",
   "version": "3.8.8"
  }
 },
 "nbformat": 4,
 "nbformat_minor": 4
}
